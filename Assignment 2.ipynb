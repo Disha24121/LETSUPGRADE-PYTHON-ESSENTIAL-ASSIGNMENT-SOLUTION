{
 "cells": [
  {
   "cell_type": "code",
   "execution_count": 7,
   "metadata": {},
   "outputs": [
    {
     "name": "stdout",
     "output_type": "stream",
     "text": [
      "Enter Altitude of the Plane :500\n",
      "Safe to Land the Plane\n"
     ]
    }
   ],
   "source": [
    "x=int(input(\"Enter Altitude of the Plane :\"))\n",
    "if x<1000 :\n",
    "    print(\"Safe to Land the Plane\")\n",
    "if x>1000 and x<5000 :\n",
    "    print(\"Come Down to 1000ft\")\n",
    "if x>5000 :\n",
    "    print(\"Go Around and Try Later\")\n",
    "    "
   ]
  },
  {
   "cell_type": "code",
   "execution_count": null,
   "metadata": {},
   "outputs": [],
   "source": []
  },
  {
   "cell_type": "code",
   "execution_count": null,
   "metadata": {},
   "outputs": [],
   "source": []
  }
 ],
 "metadata": {
  "kernelspec": {
   "display_name": "Python 3",
   "language": "python",
   "name": "python3"
  },
  "language_info": {
   "codemirror_mode": {
    "name": "ipython",
    "version": 3
   },
   "file_extension": ".py",
   "mimetype": "text/x-python",
   "name": "python",
   "nbconvert_exporter": "python",
   "pygments_lexer": "ipython3",
   "version": "3.7.4"
  }
 },
 "nbformat": 4,
 "nbformat_minor": 2
}
